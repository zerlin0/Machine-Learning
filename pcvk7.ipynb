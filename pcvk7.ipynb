{
  "nbformat": 4,
  "nbformat_minor": 0,
  "metadata": {
    "colab": {
      "provenance": [],
      "authorship_tag": "ABX9TyNgkAw3Zg27fO63/hwNmqy7",
      "include_colab_link": true
    },
    "kernelspec": {
      "name": "python3",
      "display_name": "Python 3"
    },
    "language_info": {
      "name": "python"
    }
  },
  "cells": [
    {
      "cell_type": "markdown",
      "metadata": {
        "id": "view-in-github",
        "colab_type": "text"
      },
      "source": [
        "<a href=\"https://colab.research.google.com/github/zerlin0/Machine-Learning/blob/main/pcvk7.ipynb\" target=\"_parent\"><img src=\"https://colab.research.google.com/assets/colab-badge.svg\" alt=\"Open In Colab\"/></a>"
      ]
    },
    {
      "cell_type": "markdown",
      "source": [
        "MODULE 7 –Spatial Filter: Low Pass Filter, High Pass Filter, Point Detection, Line Detection, Edge Detection"
      ],
      "metadata": {
        "id": "Cddql5sr-nmz"
      }
    },
    {
      "cell_type": "markdown",
      "source": [
        "C1. Filter Process"
      ],
      "metadata": {
        "id": "79sBJkOZ-7vU"
      }
    },
    {
      "cell_type": "markdown",
      "source": [
        "C2. Convolution Process"
      ],
      "metadata": {
        "id": "C3kHkUJL_CVt"
      }
    },
    {
      "cell_type": "markdown",
      "source": [
        "C3. Spatial Filter Type"
      ],
      "metadata": {
        "id": "47v7YALh_Mul"
      }
    },
    {
      "cell_type": "markdown",
      "source": [
        "C3.1. Sharpening"
      ],
      "metadata": {
        "id": "_DqxRujt_Uik"
      }
    },
    {
      "cell_type": "markdown",
      "source": [
        "C3.2. Blurring"
      ],
      "metadata": {
        "id": "45En-Xnw_dnI"
      }
    },
    {
      "cell_type": "markdown",
      "source": [
        "C3.3. Emboss"
      ],
      "metadata": {
        "id": "94ZeN5xM_hiA"
      }
    },
    {
      "cell_type": "markdown",
      "source": [
        "PRAKTIKUM FILTER"
      ],
      "metadata": {
        "id": "jrvBIF5g_noo"
      }
    },
    {
      "cell_type": "code",
      "execution_count": null,
      "metadata": {
        "id": "-k-rLotB-KvE"
      },
      "outputs": [],
      "source": []
    }
  ]
}